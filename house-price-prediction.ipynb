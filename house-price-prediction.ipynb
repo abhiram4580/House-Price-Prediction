{
 "cells": [
  {
   "cell_type": "markdown",
   "id": "1e3a372b",
   "metadata": {
    "papermill": {
     "duration": 0.00632,
     "end_time": "2023-06-24T11:12:22.449465",
     "exception": false,
     "start_time": "2023-06-24T11:12:22.443145",
     "status": "completed"
    },
    "tags": []
   },
   "source": [
    "# Importing Libraries "
   ]
  },
  {
   "cell_type": "code",
   "execution_count": 277,
   "id": "7625a9fb",
   "metadata": {
    "execution": {
     "iopub.execute_input": "2023-06-24T11:12:22.463156Z",
     "iopub.status.busy": "2023-06-24T11:12:22.462764Z",
     "iopub.status.idle": "2023-06-24T11:12:23.888231Z",
     "shell.execute_reply": "2023-06-24T11:12:23.887063Z"
    },
    "papermill": {
     "duration": 1.435344,
     "end_time": "2023-06-24T11:12:23.890857",
     "exception": false,
     "start_time": "2023-06-24T11:12:22.455513",
     "status": "completed"
    },
    "tags": []
   },
   "outputs": [],
   "source": [
    "import numpy as np\n",
    "import pandas as pd\n",
    "import matplotlib.pyplot as plt\n",
    "import seaborn as sns"
   ]
  },
  {
   "cell_type": "markdown",
   "id": "8e50df1d",
   "metadata": {
    "papermill": {
     "duration": 0.005901,
     "end_time": "2023-06-24T11:12:23.902818",
     "exception": false,
     "start_time": "2023-06-24T11:12:23.896917",
     "status": "completed"
    },
    "tags": []
   },
   "source": [
    "# Loading dataset"
   ]
  },
  {
   "cell_type": "code",
   "execution_count": 278,
   "id": "df4bd5e1",
   "metadata": {
    "execution": {
     "iopub.execute_input": "2023-06-24T11:12:23.916123Z",
     "iopub.status.busy": "2023-06-24T11:12:23.915750Z",
     "iopub.status.idle": "2023-06-24T11:12:23.977264Z",
     "shell.execute_reply": "2023-06-24T11:12:23.976139Z"
    },
    "papermill": {
     "duration": 0.071666,
     "end_time": "2023-06-24T11:12:23.980328",
     "exception": false,
     "start_time": "2023-06-24T11:12:23.908662",
     "status": "completed"
    },
    "tags": []
   },
   "outputs": [
    {
     "data": {
      "text/html": [
       "<div>\n",
       "<style scoped>\n",
       "    .dataframe tbody tr th:only-of-type {\n",
       "        vertical-align: middle;\n",
       "    }\n",
       "\n",
       "    .dataframe tbody tr th {\n",
       "        vertical-align: top;\n",
       "    }\n",
       "\n",
       "    .dataframe thead th {\n",
       "        text-align: right;\n",
       "    }\n",
       "</style>\n",
       "<table border=\"1\" class=\"dataframe\">\n",
       "  <thead>\n",
       "    <tr style=\"text-align: right;\">\n",
       "      <th></th>\n",
       "      <th>price</th>\n",
       "      <th>area</th>\n",
       "      <th>bedrooms</th>\n",
       "      <th>bathrooms</th>\n",
       "      <th>stories</th>\n",
       "      <th>mainroad</th>\n",
       "      <th>guestroom</th>\n",
       "      <th>basement</th>\n",
       "      <th>hotwaterheating</th>\n",
       "      <th>airconditioning</th>\n",
       "      <th>parking</th>\n",
       "      <th>prefarea</th>\n",
       "      <th>furnishingstatus</th>\n",
       "    </tr>\n",
       "  </thead>\n",
       "  <tbody>\n",
       "    <tr>\n",
       "      <th>0</th>\n",
       "      <td>13300000</td>\n",
       "      <td>7420</td>\n",
       "      <td>4</td>\n",
       "      <td>2</td>\n",
       "      <td>3</td>\n",
       "      <td>yes</td>\n",
       "      <td>no</td>\n",
       "      <td>no</td>\n",
       "      <td>no</td>\n",
       "      <td>yes</td>\n",
       "      <td>2</td>\n",
       "      <td>yes</td>\n",
       "      <td>furnished</td>\n",
       "    </tr>\n",
       "    <tr>\n",
       "      <th>1</th>\n",
       "      <td>12250000</td>\n",
       "      <td>8960</td>\n",
       "      <td>4</td>\n",
       "      <td>4</td>\n",
       "      <td>4</td>\n",
       "      <td>yes</td>\n",
       "      <td>no</td>\n",
       "      <td>no</td>\n",
       "      <td>no</td>\n",
       "      <td>yes</td>\n",
       "      <td>3</td>\n",
       "      <td>no</td>\n",
       "      <td>furnished</td>\n",
       "    </tr>\n",
       "    <tr>\n",
       "      <th>2</th>\n",
       "      <td>12250000</td>\n",
       "      <td>9960</td>\n",
       "      <td>3</td>\n",
       "      <td>2</td>\n",
       "      <td>2</td>\n",
       "      <td>yes</td>\n",
       "      <td>no</td>\n",
       "      <td>yes</td>\n",
       "      <td>no</td>\n",
       "      <td>no</td>\n",
       "      <td>2</td>\n",
       "      <td>yes</td>\n",
       "      <td>semi-furnished</td>\n",
       "    </tr>\n",
       "    <tr>\n",
       "      <th>3</th>\n",
       "      <td>12215000</td>\n",
       "      <td>7500</td>\n",
       "      <td>4</td>\n",
       "      <td>2</td>\n",
       "      <td>2</td>\n",
       "      <td>yes</td>\n",
       "      <td>no</td>\n",
       "      <td>yes</td>\n",
       "      <td>no</td>\n",
       "      <td>yes</td>\n",
       "      <td>3</td>\n",
       "      <td>yes</td>\n",
       "      <td>furnished</td>\n",
       "    </tr>\n",
       "    <tr>\n",
       "      <th>4</th>\n",
       "      <td>11410000</td>\n",
       "      <td>7420</td>\n",
       "      <td>4</td>\n",
       "      <td>1</td>\n",
       "      <td>2</td>\n",
       "      <td>yes</td>\n",
       "      <td>yes</td>\n",
       "      <td>yes</td>\n",
       "      <td>no</td>\n",
       "      <td>yes</td>\n",
       "      <td>2</td>\n",
       "      <td>no</td>\n",
       "      <td>furnished</td>\n",
       "    </tr>\n",
       "  </tbody>\n",
       "</table>\n",
       "</div>"
      ],
      "text/plain": [
       "      price  area  bedrooms  bathrooms  stories mainroad guestroom basement  \\\n",
       "0  13300000  7420         4          2        3      yes        no       no   \n",
       "1  12250000  8960         4          4        4      yes        no       no   \n",
       "2  12250000  9960         3          2        2      yes        no      yes   \n",
       "3  12215000  7500         4          2        2      yes        no      yes   \n",
       "4  11410000  7420         4          1        2      yes       yes      yes   \n",
       "\n",
       "  hotwaterheating airconditioning  parking prefarea furnishingstatus  \n",
       "0              no             yes        2      yes        furnished  \n",
       "1              no             yes        3       no        furnished  \n",
       "2              no              no        2      yes   semi-furnished  \n",
       "3              no             yes        3      yes        furnished  \n",
       "4              no             yes        2       no        furnished  "
      ]
     },
     "execution_count": 278,
     "metadata": {},
     "output_type": "execute_result"
    }
   ],
   "source": [
    "df=pd.read_csv(\"Housing.csv\")\n",
    "df.head()"
   ]
  },
  {
   "cell_type": "code",
   "execution_count": 279,
   "id": "c6a2d11d",
   "metadata": {
    "execution": {
     "iopub.execute_input": "2023-06-24T11:12:23.997409Z",
     "iopub.status.busy": "2023-06-24T11:12:23.996570Z",
     "iopub.status.idle": "2023-06-24T11:12:24.003771Z",
     "shell.execute_reply": "2023-06-24T11:12:24.002517Z"
    },
    "papermill": {
     "duration": 0.017605,
     "end_time": "2023-06-24T11:12:24.005995",
     "exception": false,
     "start_time": "2023-06-24T11:12:23.988390",
     "status": "completed"
    },
    "tags": []
   },
   "outputs": [
    {
     "data": {
      "text/plain": [
       "(545, 13)"
      ]
     },
     "execution_count": 279,
     "metadata": {},
     "output_type": "execute_result"
    }
   ],
   "source": [
    "\n",
    "\n",
    "df.shape"
   ]
  },
  {
   "cell_type": "markdown",
   "id": "47455de3",
   "metadata": {
    "papermill": {
     "duration": 0.00616,
     "end_time": "2023-06-24T11:12:24.018702",
     "exception": false,
     "start_time": "2023-06-24T11:12:24.012542",
     "status": "completed"
    },
    "tags": []
   },
   "source": [
    "Our Dataset has 545 rows and 13 columns"
   ]
  },
  {
   "cell_type": "code",
   "execution_count": 280,
   "id": "f6e74f27",
   "metadata": {
    "execution": {
     "iopub.execute_input": "2023-06-24T11:12:24.033121Z",
     "iopub.status.busy": "2023-06-24T11:12:24.032764Z",
     "iopub.status.idle": "2023-06-24T11:12:24.039548Z",
     "shell.execute_reply": "2023-06-24T11:12:24.038503Z"
    },
    "papermill": {
     "duration": 0.016647,
     "end_time": "2023-06-24T11:12:24.041735",
     "exception": false,
     "start_time": "2023-06-24T11:12:24.025088",
     "status": "completed"
    },
    "tags": []
   },
   "outputs": [
    {
     "data": {
      "text/plain": [
       "Index(['price', 'area', 'bedrooms', 'bathrooms', 'stories', 'mainroad',\n",
       "       'guestroom', 'basement', 'hotwaterheating', 'airconditioning',\n",
       "       'parking', 'prefarea', 'furnishingstatus'],\n",
       "      dtype='object')"
      ]
     },
     "execution_count": 280,
     "metadata": {},
     "output_type": "execute_result"
    }
   ],
   "source": [
    "df.columns"
   ]
  },
  {
   "cell_type": "code",
   "execution_count": 281,
   "id": "1973c85f",
   "metadata": {
    "execution": {
     "iopub.execute_input": "2023-06-24T11:12:24.069084Z",
     "iopub.status.busy": "2023-06-24T11:12:24.068716Z",
     "iopub.status.idle": "2023-06-24T11:12:24.093368Z",
     "shell.execute_reply": "2023-06-24T11:12:24.092209Z"
    },
    "papermill": {
     "duration": 0.034704,
     "end_time": "2023-06-24T11:12:24.095758",
     "exception": false,
     "start_time": "2023-06-24T11:12:24.061054",
     "status": "completed"
    },
    "tags": []
   },
   "outputs": [
    {
     "name": "stdout",
     "output_type": "stream",
     "text": [
      "<class 'pandas.core.frame.DataFrame'>\n",
      "RangeIndex: 545 entries, 0 to 544\n",
      "Data columns (total 13 columns):\n",
      " #   Column            Non-Null Count  Dtype \n",
      "---  ------            --------------  ----- \n",
      " 0   price             545 non-null    int64 \n",
      " 1   area              545 non-null    int64 \n",
      " 2   bedrooms          545 non-null    int64 \n",
      " 3   bathrooms         545 non-null    int64 \n",
      " 4   stories           545 non-null    int64 \n",
      " 5   mainroad          545 non-null    object\n",
      " 6   guestroom         545 non-null    object\n",
      " 7   basement          545 non-null    object\n",
      " 8   hotwaterheating   545 non-null    object\n",
      " 9   airconditioning   545 non-null    object\n",
      " 10  parking           545 non-null    int64 \n",
      " 11  prefarea          545 non-null    object\n",
      " 12  furnishingstatus  545 non-null    object\n",
      "dtypes: int64(6), object(7)\n",
      "memory usage: 55.5+ KB\n"
     ]
    }
   ],
   "source": [
    "df.info()"
   ]
  },
  {
   "cell_type": "code",
   "execution_count": 282,
   "id": "d7f15a89",
   "metadata": {
    "execution": {
     "iopub.execute_input": "2023-06-24T11:12:24.111219Z",
     "iopub.status.busy": "2023-06-24T11:12:24.110802Z",
     "iopub.status.idle": "2023-06-24T11:12:24.120238Z",
     "shell.execute_reply": "2023-06-24T11:12:24.119401Z"
    },
    "papermill": {
     "duration": 0.019685,
     "end_time": "2023-06-24T11:12:24.122256",
     "exception": false,
     "start_time": "2023-06-24T11:12:24.102571",
     "status": "completed"
    },
    "tags": []
   },
   "outputs": [
    {
     "data": {
      "text/plain": [
       "price               0\n",
       "area                0\n",
       "bedrooms            0\n",
       "bathrooms           0\n",
       "stories             0\n",
       "mainroad            0\n",
       "guestroom           0\n",
       "basement            0\n",
       "hotwaterheating     0\n",
       "airconditioning     0\n",
       "parking             0\n",
       "prefarea            0\n",
       "furnishingstatus    0\n",
       "dtype: int64"
      ]
     },
     "execution_count": 282,
     "metadata": {},
     "output_type": "execute_result"
    }
   ],
   "source": [
    "\n",
    "df.isnull().sum()"
   ]
  },
  {
   "cell_type": "code",
   "execution_count": 283,
   "id": "0a8a23e8",
   "metadata": {
    "execution": {
     "iopub.execute_input": "2023-06-24T11:12:24.138161Z",
     "iopub.status.busy": "2023-06-24T11:12:24.137185Z",
     "iopub.status.idle": "2023-06-24T11:12:24.303032Z",
     "shell.execute_reply": "2023-06-24T11:12:24.301906Z"
    },
    "papermill": {
     "duration": 0.176517,
     "end_time": "2023-06-24T11:12:24.305616",
     "exception": false,
     "start_time": "2023-06-24T11:12:24.129099",
     "status": "completed"
    },
    "tags": []
   },
   "outputs": [],
   "source": [
    "\n",
    "from sklearn.preprocessing import LabelEncoder\n",
    "features = [\"mainroad\",\"guestroom\",\"basement\",\"hotwaterheating\",\"airconditioning\",\"prefarea\",\"furnishingstatus\"]\n",
    "le = LabelEncoder()\n",
    "df[features] = df[features].apply(le.fit_transform)"
   ]
  },
  {
   "cell_type": "code",
   "execution_count": 284,
   "id": "e5317eae",
   "metadata": {
    "execution": {
     "iopub.execute_input": "2023-06-24T11:12:24.321565Z",
     "iopub.status.busy": "2023-06-24T11:12:24.321158Z",
     "iopub.status.idle": "2023-06-24T11:12:24.335170Z",
     "shell.execute_reply": "2023-06-24T11:12:24.333925Z"
    },
    "papermill": {
     "duration": 0.025318,
     "end_time": "2023-06-24T11:12:24.337996",
     "exception": false,
     "start_time": "2023-06-24T11:12:24.312678",
     "status": "completed"
    },
    "tags": []
   },
   "outputs": [
    {
     "name": "stdout",
     "output_type": "stream",
     "text": [
      "<class 'pandas.core.frame.DataFrame'>\n",
      "RangeIndex: 545 entries, 0 to 544\n",
      "Data columns (total 13 columns):\n",
      " #   Column            Non-Null Count  Dtype\n",
      "---  ------            --------------  -----\n",
      " 0   price             545 non-null    int64\n",
      " 1   area              545 non-null    int64\n",
      " 2   bedrooms          545 non-null    int64\n",
      " 3   bathrooms         545 non-null    int64\n",
      " 4   stories           545 non-null    int64\n",
      " 5   mainroad          545 non-null    int32\n",
      " 6   guestroom         545 non-null    int32\n",
      " 7   basement          545 non-null    int32\n",
      " 8   hotwaterheating   545 non-null    int32\n",
      " 9   airconditioning   545 non-null    int32\n",
      " 10  parking           545 non-null    int64\n",
      " 11  prefarea          545 non-null    int32\n",
      " 12  furnishingstatus  545 non-null    int32\n",
      "dtypes: int32(7), int64(6)\n",
      "memory usage: 40.6 KB\n"
     ]
    }
   ],
   "source": [
    "df.info()"
   ]
  },
  {
   "cell_type": "markdown",
   "id": "4add6085",
   "metadata": {
    "papermill": {
     "duration": 0.018146,
     "end_time": "2023-06-24T11:13:25.679120",
     "exception": false,
     "start_time": "2023-06-24T11:13:25.660974",
     "status": "completed"
    },
    "tags": []
   },
   "source": [
    "# Splitting Dataset"
   ]
  },
  {
   "cell_type": "code",
   "execution_count": 285,
   "id": "b4dcd1d9",
   "metadata": {
    "execution": {
     "iopub.execute_input": "2023-06-24T11:13:25.717540Z",
     "iopub.status.busy": "2023-06-24T11:13:25.717153Z",
     "iopub.status.idle": "2023-06-24T11:13:25.917295Z",
     "shell.execute_reply": "2023-06-24T11:13:25.916183Z"
    },
    "papermill": {
     "duration": 0.222442,
     "end_time": "2023-06-24T11:13:25.919858",
     "exception": false,
     "start_time": "2023-06-24T11:13:25.697416",
     "status": "completed"
    },
    "tags": []
   },
   "outputs": [],
   "source": [
    "from sklearn.model_selection import train_test_split\n",
    "from sklearn.preprocessing import MinMaxScaler \n",
    "from sklearn.metrics import r2_score, mean_squared_error\n",
    "from sklearn.linear_model import LinearRegression"
   ]
  },
  {
   "cell_type": "code",
   "execution_count": 286,
   "id": "1b2cceda",
   "metadata": {
    "execution": {
     "iopub.execute_input": "2023-06-24T11:13:25.959069Z",
     "iopub.status.busy": "2023-06-24T11:13:25.958674Z",
     "iopub.status.idle": "2023-06-24T11:13:25.982539Z",
     "shell.execute_reply": "2023-06-24T11:13:25.981316Z"
    },
    "papermill": {
     "duration": 0.04686,
     "end_time": "2023-06-24T11:13:25.985221",
     "exception": false,
     "start_time": "2023-06-24T11:13:25.938361",
     "status": "completed"
    },
    "tags": []
   },
   "outputs": [
    {
     "data": {
      "text/html": [
       "<div>\n",
       "<style scoped>\n",
       "    .dataframe tbody tr th:only-of-type {\n",
       "        vertical-align: middle;\n",
       "    }\n",
       "\n",
       "    .dataframe tbody tr th {\n",
       "        vertical-align: top;\n",
       "    }\n",
       "\n",
       "    .dataframe thead th {\n",
       "        text-align: right;\n",
       "    }\n",
       "</style>\n",
       "<table border=\"1\" class=\"dataframe\">\n",
       "  <thead>\n",
       "    <tr style=\"text-align: right;\">\n",
       "      <th></th>\n",
       "      <th>price</th>\n",
       "      <th>area</th>\n",
       "      <th>bedrooms</th>\n",
       "      <th>bathrooms</th>\n",
       "      <th>stories</th>\n",
       "      <th>mainroad</th>\n",
       "      <th>guestroom</th>\n",
       "      <th>basement</th>\n",
       "      <th>hotwaterheating</th>\n",
       "      <th>airconditioning</th>\n",
       "      <th>parking</th>\n",
       "      <th>prefarea</th>\n",
       "      <th>furnishingstatus</th>\n",
       "    </tr>\n",
       "  </thead>\n",
       "  <tbody>\n",
       "    <tr>\n",
       "      <th>0</th>\n",
       "      <td>13300000</td>\n",
       "      <td>0.396564</td>\n",
       "      <td>0.6</td>\n",
       "      <td>0.333333</td>\n",
       "      <td>0.666667</td>\n",
       "      <td>1</td>\n",
       "      <td>0</td>\n",
       "      <td>0</td>\n",
       "      <td>0</td>\n",
       "      <td>1</td>\n",
       "      <td>0.666667</td>\n",
       "      <td>1</td>\n",
       "      <td>0</td>\n",
       "    </tr>\n",
       "    <tr>\n",
       "      <th>1</th>\n",
       "      <td>12250000</td>\n",
       "      <td>0.502405</td>\n",
       "      <td>0.6</td>\n",
       "      <td>1.000000</td>\n",
       "      <td>1.000000</td>\n",
       "      <td>1</td>\n",
       "      <td>0</td>\n",
       "      <td>0</td>\n",
       "      <td>0</td>\n",
       "      <td>1</td>\n",
       "      <td>1.000000</td>\n",
       "      <td>0</td>\n",
       "      <td>0</td>\n",
       "    </tr>\n",
       "    <tr>\n",
       "      <th>2</th>\n",
       "      <td>12250000</td>\n",
       "      <td>0.571134</td>\n",
       "      <td>0.4</td>\n",
       "      <td>0.333333</td>\n",
       "      <td>0.333333</td>\n",
       "      <td>1</td>\n",
       "      <td>0</td>\n",
       "      <td>1</td>\n",
       "      <td>0</td>\n",
       "      <td>0</td>\n",
       "      <td>0.666667</td>\n",
       "      <td>1</td>\n",
       "      <td>1</td>\n",
       "    </tr>\n",
       "    <tr>\n",
       "      <th>3</th>\n",
       "      <td>12215000</td>\n",
       "      <td>0.402062</td>\n",
       "      <td>0.6</td>\n",
       "      <td>0.333333</td>\n",
       "      <td>0.333333</td>\n",
       "      <td>1</td>\n",
       "      <td>0</td>\n",
       "      <td>1</td>\n",
       "      <td>0</td>\n",
       "      <td>1</td>\n",
       "      <td>1.000000</td>\n",
       "      <td>1</td>\n",
       "      <td>0</td>\n",
       "    </tr>\n",
       "    <tr>\n",
       "      <th>4</th>\n",
       "      <td>11410000</td>\n",
       "      <td>0.396564</td>\n",
       "      <td>0.6</td>\n",
       "      <td>0.000000</td>\n",
       "      <td>0.333333</td>\n",
       "      <td>1</td>\n",
       "      <td>1</td>\n",
       "      <td>1</td>\n",
       "      <td>0</td>\n",
       "      <td>1</td>\n",
       "      <td>0.666667</td>\n",
       "      <td>0</td>\n",
       "      <td>0</td>\n",
       "    </tr>\n",
       "  </tbody>\n",
       "</table>\n",
       "</div>"
      ],
      "text/plain": [
       "      price      area  bedrooms  bathrooms   stories  mainroad  guestroom  \\\n",
       "0  13300000  0.396564       0.6   0.333333  0.666667         1          0   \n",
       "1  12250000  0.502405       0.6   1.000000  1.000000         1          0   \n",
       "2  12250000  0.571134       0.4   0.333333  0.333333         1          0   \n",
       "3  12215000  0.402062       0.6   0.333333  0.333333         1          0   \n",
       "4  11410000  0.396564       0.6   0.000000  0.333333         1          1   \n",
       "\n",
       "   basement  hotwaterheating  airconditioning   parking  prefarea  \\\n",
       "0         0                0                1  0.666667         1   \n",
       "1         0                0                1  1.000000         0   \n",
       "2         1                0                0  0.666667         1   \n",
       "3         1                0                1  1.000000         1   \n",
       "4         1                0                1  0.666667         0   \n",
       "\n",
       "   furnishingstatus  \n",
       "0                 0  \n",
       "1                 0  \n",
       "2                 1  \n",
       "3                 0  \n",
       "4                 0  "
      ]
     },
     "execution_count": 286,
     "metadata": {},
     "output_type": "execute_result"
    }
   ],
   "source": [
    "#Data Scaling\n",
    "\n",
    "df_new = df.copy(deep=True)\n",
    "num_columns = ['area', 'bedrooms', 'bathrooms', 'stories','parking']\n",
    "\n",
    "df_new[num_columns] = MinMaxScaler().fit_transform(df_new[num_columns])\n",
    "\n",
    "df_new.head()"
   ]
  },
  {
   "cell_type": "code",
   "execution_count": 287,
   "id": "430b616d",
   "metadata": {
    "execution": {
     "iopub.execute_input": "2023-06-24T11:13:26.025263Z",
     "iopub.status.busy": "2023-06-24T11:13:26.024526Z",
     "iopub.status.idle": "2023-06-24T11:13:26.030129Z",
     "shell.execute_reply": "2023-06-24T11:13:26.029038Z"
    },
    "papermill": {
     "duration": 0.028553,
     "end_time": "2023-06-24T11:13:26.032554",
     "exception": false,
     "start_time": "2023-06-24T11:13:26.004001",
     "status": "completed"
    },
    "tags": []
   },
   "outputs": [],
   "source": [
    "X = df.drop(['price'],axis=1)\n",
    "y = df['price']"
   ]
  },
  {
   "cell_type": "code",
   "execution_count": 288,
   "id": "3658a697",
   "metadata": {
    "execution": {
     "iopub.execute_input": "2023-06-24T11:13:26.072135Z",
     "iopub.status.busy": "2023-06-24T11:13:26.071161Z",
     "iopub.status.idle": "2023-06-24T11:13:26.079056Z",
     "shell.execute_reply": "2023-06-24T11:13:26.078083Z"
    },
    "papermill": {
     "duration": 0.029493,
     "end_time": "2023-06-24T11:13:26.080956",
     "exception": false,
     "start_time": "2023-06-24T11:13:26.051463",
     "status": "completed"
    },
    "tags": []
   },
   "outputs": [
    {
     "data": {
      "text/plain": [
       "(408, 137)"
      ]
     },
     "execution_count": 288,
     "metadata": {},
     "output_type": "execute_result"
    }
   ],
   "source": [
    "X_train,X_test,y_train,y_test = train_test_split(X,y,test_size=0.25,random_state=10)\n",
    "len(X_train),len(X_test)"
   ]
  },
  {
   "cell_type": "markdown",
   "id": "82c13ef6",
   "metadata": {
    "papermill": {
     "duration": 0.01834,
     "end_time": "2023-06-24T11:13:26.118011",
     "exception": false,
     "start_time": "2023-06-24T11:13:26.099671",
     "status": "completed"
    },
    "tags": []
   },
   "source": [
    "# Model"
   ]
  },
  {
   "cell_type": "code",
   "execution_count": 289,
   "id": "ea4ddee7",
   "metadata": {
    "execution": {
     "iopub.execute_input": "2023-06-24T11:13:26.157972Z",
     "iopub.status.busy": "2023-06-24T11:13:26.157287Z",
     "iopub.status.idle": "2023-06-24T11:13:26.189078Z",
     "shell.execute_reply": "2023-06-24T11:13:26.188081Z"
    },
    "papermill": {
     "duration": 0.054535,
     "end_time": "2023-06-24T11:13:26.191534",
     "exception": false,
     "start_time": "2023-06-24T11:13:26.136999",
     "status": "completed"
    },
    "tags": []
   },
   "outputs": [
    {
     "data": {
      "text/plain": [
       "LinearRegression()"
      ]
     },
     "execution_count": 289,
     "metadata": {},
     "output_type": "execute_result"
    }
   ],
   "source": [
    "model = LinearRegression()\n",
    "model.fit(X_train,y_train)"
   ]
  },
  {
   "cell_type": "code",
   "execution_count": 290,
   "id": "9bd09aa3",
   "metadata": {
    "execution": {
     "iopub.execute_input": "2023-06-24T11:13:26.237572Z",
     "iopub.status.busy": "2023-06-24T11:13:26.237161Z",
     "iopub.status.idle": "2023-06-24T11:13:26.242973Z",
     "shell.execute_reply": "2023-06-24T11:13:26.242083Z"
    },
    "papermill": {
     "duration": 0.031249,
     "end_time": "2023-06-24T11:13:26.245011",
     "exception": false,
     "start_time": "2023-06-24T11:13:26.213762",
     "status": "completed"
    },
    "tags": []
   },
   "outputs": [],
   "source": [
    "\n",
    "\n",
    "y_predict = model.predict(X_test)"
   ]
  },
  {
   "cell_type": "code",
   "execution_count": 291,
   "id": "3638f1a0",
   "metadata": {
    "execution": {
     "iopub.execute_input": "2023-06-24T11:13:26.292373Z",
     "iopub.status.busy": "2023-06-24T11:13:26.291197Z",
     "iopub.status.idle": "2023-06-24T11:13:26.298826Z",
     "shell.execute_reply": "2023-06-24T11:13:26.297776Z"
    },
    "papermill": {
     "duration": 0.033714,
     "end_time": "2023-06-24T11:13:26.300770",
     "exception": false,
     "start_time": "2023-06-24T11:13:26.267056",
     "status": "completed"
    },
    "tags": []
   },
   "outputs": [
    {
     "data": {
      "text/plain": [
       "array([ 2668938.73495442,  3690810.69493339,  5977872.22367347,\n",
       "        3814982.64635074,  6538076.98309014,  6988100.19135976,\n",
       "        3599536.32752979,  3085176.90285307,  5392813.52429735,\n",
       "        3152812.19437679,  5054245.79702529,  2176417.5630864 ,\n",
       "        4247017.53880727,  4549158.59538645,  6731430.53327605,\n",
       "        2684056.01595156,  7333171.31948787,  6392007.71738388,\n",
       "        5145016.09387835,  4289111.1498496 ,  2615782.6297394 ,\n",
       "        2001178.88227607,  5864925.72010586,  5393575.53893266,\n",
       "        6796545.70508061,  6149269.87468053,  3644104.07336219,\n",
       "        3723770.59001238,  3638788.30568611,  3785984.18407989,\n",
       "        4498774.19907095,  5070653.2615061 ,  5515115.53243013,\n",
       "        5539532.72690297,  7523309.51911127,  5147785.8800396 ,\n",
       "        6712620.99881564,  2391089.19593329,  5359370.60183481,\n",
       "        5487911.15481679,  5000461.71274707,  5266924.42886602,\n",
       "        2928230.95029199,  6489190.92933049,  5837762.68933869,\n",
       "        7871819.60384294,  8280158.10717956,  6077635.71240813,\n",
       "        3607969.32491453,  4912188.45579729,  3293590.61742581,\n",
       "        6058228.76909404,  3936515.52426456,  4816400.68867495,\n",
       "        2886496.1780257 ,  5644134.30911015,  5358185.82363642,\n",
       "        3575426.67737267,  3829095.61448068,  4634484.63002408,\n",
       "        4564015.7928469 ,  4791630.1604131 ,  5196722.50935354,\n",
       "        3745965.35365166,  4167366.93622489,  6872148.62548435,\n",
       "        3157969.31430766,  2576790.67406911,  2507013.79337437,\n",
       "        7135885.28435567,  4134348.7269664 ,  6422048.64255659,\n",
       "        6259988.73484692,  3716316.00764815,  2826164.54139341,\n",
       "        3374795.39182911,  3270153.21570806,  5069883.68802899,\n",
       "        9677321.98840309,  4805534.45757853,  7372688.59937005,\n",
       "        5127552.11425755,  3780562.97347158,  2784646.79620756,\n",
       "        4552769.00463363,  2603474.10652885,  5028681.95426217,\n",
       "       10430284.7757807 ,  5848939.4233985 ,  3195439.48431311,\n",
       "        5646993.92826699,  3276506.43180284,  6358198.5755849 ,\n",
       "        6126843.03537731,  3966539.32655439,  3575301.66296227,\n",
       "        3329702.0777003 ,  6685273.47304185,  4798585.44892715,\n",
       "        4971865.81773754,  5370890.52586997,  4042100.95216535,\n",
       "        4503587.41435427,  4407722.03928972,  6907167.45284417,\n",
       "        4169574.48776911,  4042742.22720439,  3268083.61706002,\n",
       "        5858325.11765349,  2811083.35471199,  4347975.38631503,\n",
       "        5054942.44393054,  3877761.15405979,  2828865.92596218,\n",
       "        2881377.70820437,  5483523.85784549,  3356373.63162383,\n",
       "        2228066.30438697,  4957481.41421338,  4649700.0518102 ,\n",
       "        7638318.67655629,  4335427.26383222,  4804124.0817596 ,\n",
       "        4060805.65140408,  7477074.09896393,  3411648.00080324,\n",
       "        4955043.57870448,  4769667.5090685 ,  5404642.76768957,\n",
       "        4496016.02053858,  5016560.97127554,  5150468.43824531,\n",
       "        6579433.09109743,  4517334.07979583,  3413197.36851848,\n",
       "        4667106.49144671,  4624468.03221352])"
      ]
     },
     "execution_count": 291,
     "metadata": {},
     "output_type": "execute_result"
    }
   ],
   "source": [
    "y_predict"
   ]
  },
  {
   "cell_type": "markdown",
   "id": "5d30d007",
   "metadata": {
    "papermill": {
     "duration": 0.022225,
     "end_time": "2023-06-24T11:13:26.344711",
     "exception": false,
     "start_time": "2023-06-24T11:13:26.322486",
     "status": "completed"
    },
    "tags": []
   },
   "source": [
    "# Evaluation"
   ]
  },
  {
   "cell_type": "code",
   "execution_count": 292,
   "id": "b8771a48",
   "metadata": {
    "execution": {
     "iopub.execute_input": "2023-06-24T11:13:26.391498Z",
     "iopub.status.busy": "2023-06-24T11:13:26.390786Z",
     "iopub.status.idle": "2023-06-24T11:13:26.724781Z",
     "shell.execute_reply": "2023-06-24T11:13:26.723988Z"
    },
    "papermill": {
     "duration": 0.359972,
     "end_time": "2023-06-24T11:13:26.726873",
     "exception": false,
     "start_time": "2023-06-24T11:13:26.366901",
     "status": "completed"
    },
    "tags": []
   },
   "outputs": [
    {
     "data": {
      "image/png": "[encoded data removed]",
      "text/plain": [
       "<Figure size 640x480 with 1 Axes>"
      ]
     },
     "metadata": {},
     "output_type": "display_data"
    }
   ],
   "source": [
    "plt.scatter(y_test,y_predict, c='black')\n",
    "x=y\n",
    "plt.plot(x,y,c='b')   \n",
    "\n",
    "plt.xlabel('Actual value')                         \n",
    "plt.ylabel('Predicted value') \n",
    "plt.title('y pred vs yactual')\n",
    "plt.show()"
   ]
  },
  {
   "cell_type": "code",
   "execution_count": 295,
   "id": "b42423d9",
   "metadata": {
    "execution": {
     "iopub.execute_input": "2023-06-24T11:13:26.774880Z",
     "iopub.status.busy": "2023-06-24T11:13:26.774081Z",
     "iopub.status.idle": "2023-06-24T11:13:26.779921Z",
     "shell.execute_reply": "2023-06-24T11:13:26.778934Z"
    },
    "papermill": {
     "duration": 0.032833,
     "end_time": "2023-06-24T11:13:26.782062",
     "exception": false,
     "start_time": "2023-06-24T11:13:26.749229",
     "status": "completed"
    },
    "tags": []
   },
   "outputs": [],
   "source": [
    "from sklearn.metrics import r2_score,explained_variance_score\n",
    "accuracy=r2_score(y_predict,y_test)\n",
    "variance=explained_variance_score(y_predict,y_test)\n",
    "\n"
   ]
  },
  {
   "cell_type": "code",
   "execution_count": 297,
   "id": "797a7deb",
   "metadata": {
    "execution": {
     "iopub.execute_input": "2023-06-24T11:13:26.830132Z",
     "iopub.status.busy": "2023-06-24T11:13:26.829377Z",
     "iopub.status.idle": "2023-06-24T11:13:26.834999Z",
     "shell.execute_reply": "2023-06-24T11:13:26.834053Z"
    },
    "papermill": {
     "duration": 0.032198,
     "end_time": "2023-06-24T11:13:26.837015",
     "exception": false,
     "start_time": "2023-06-24T11:13:26.804817",
     "status": "completed"
    },
    "tags": []
   },
   "outputs": [
    {
     "data": {
      "text/plain": [
       "0.6862161513674347"
      ]
     },
     "execution_count": 297,
     "metadata": {},
     "output_type": "execute_result"
    }
   ],
   "source": [
    "accuracy"
   ]
  },
  {
   "cell_type": "code",
   "execution_count": 298,
   "id": "e21767f7",
   "metadata": {},
   "outputs": [
    {
     "data": {
      "text/plain": [
       "0.7027394010802103"
      ]
     },
     "execution_count": 298,
     "metadata": {},
     "output_type": "execute_result"
    }
   ],
   "source": [
    "variance"
   ]
  }
 ],
 "metadata": {
  "kernelspec": {
   "display_name": "Python 3",
   "language": "python",
   "name": "python3"
  },
  "language_info": {
   "codemirror_mode": {
    "name": "ipython",
    "version": 3
   },
   "file_extension": ".py",
   "mimetype": "text/x-python",
   "name": "python",
   "nbconvert_exporter": "python",
   "pygments_lexer": "ipython3",
   "version": "3.9.13"
  },
  "papermill": {
   "default_parameters": {},
   "duration": 76.993188,
   "end_time": "2023-06-24T11:13:28.948766",
   "environment_variables": {},
   "exception": null,
   "input_path": "__notebook__.ipynb",
   "output_path": "__notebook__.ipynb",
   "parameters": {},
   "start_time": "2023-06-24T11:12:11.955578",
   "version": "2.4.0"
  }
 },
 "nbformat": 4,
 "nbformat_minor": 5
}
